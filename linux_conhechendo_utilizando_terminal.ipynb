{
 "cells": [
  {
   "cell_type": "markdown",
   "metadata": {},
   "source": [
    "Diretorio atual"
   ]
  },
  {
   "cell_type": "code",
   "execution_count": null,
   "metadata": {},
   "outputs": [],
   "source": [
    "pwd"
   ]
  },
  {
   "cell_type": "markdown",
   "metadata": {},
   "source": [
    "Listar arquivos"
   ]
  },
  {
   "cell_type": "code",
   "execution_count": null,
   "metadata": {},
   "outputs": [],
   "source": [
    "ls"
   ]
  },
  {
   "cell_type": "markdown",
   "metadata": {},
   "source": [
    "Listar arquivos e diretorios"
   ]
  },
  {
   "cell_type": "code",
   "execution_count": null,
   "metadata": {},
   "outputs": [],
   "source": [
    "ls -l"
   ]
  },
  {
   "cell_type": "markdown",
   "metadata": {},
   "source": [
    "Listar arquivos e folders ocultos"
   ]
  },
  {
   "cell_type": "code",
   "execution_count": null,
   "metadata": {},
   "outputs": [],
   "source": [
    "ls -la"
   ]
  },
  {
   "cell_type": "markdown",
   "metadata": {},
   "source": [
    "Printar na tela"
   ]
  },
  {
   "cell_type": "code",
   "execution_count": null,
   "metadata": {},
   "outputs": [],
   "source": [
    "!echo Bem vindo"
   ]
  },
  {
   "cell_type": "markdown",
   "metadata": {},
   "source": [
    "Enviar resultado para arquivo"
   ]
  },
  {
   "cell_type": "code",
   "execution_count": null,
   "metadata": {},
   "outputs": [],
   "source": [
    "!echo \"Bem vindo\" > bemvindo.txt"
   ]
  },
  {
   "cell_type": "markdown",
   "metadata": {},
   "source": [
    "Apresentar valores de arquivo no terminal"
   ]
  },
  {
   "cell_type": "code",
   "execution_count": null,
   "metadata": {},
   "outputs": [],
   "source": [
    "cat bemvindo.txt"
   ]
  },
  {
   "cell_type": "markdown",
   "metadata": {},
   "source": [
    "User ativo"
   ]
  },
  {
   "cell_type": "code",
   "execution_count": null,
   "metadata": {},
   "outputs": [],
   "source": [
    "!whoami"
   ]
  },
  {
   "cell_type": "markdown",
   "metadata": {},
   "source": [
    "Documentação de comandos"
   ]
  },
  {
   "cell_type": "code",
   "execution_count": null,
   "metadata": {},
   "outputs": [],
   "source": [
    "man ls"
   ]
  },
  {
   "cell_type": "markdown",
   "metadata": {},
   "source": [
    "Concatenar"
   ]
  },
  {
   "cell_type": "code",
   "execution_count": 17,
   "metadata": {},
   "outputs": [],
   "source": [
    "!echo 'Faithless' > musicas.txt"
   ]
  },
  {
   "cell_type": "code",
   "execution_count": 18,
   "metadata": {},
   "outputs": [],
   "source": [
    "!echo 'REM' >> musicas.txt"
   ]
  },
  {
   "cell_type": "code",
   "execution_count": 19,
   "metadata": {},
   "outputs": [
    {
     "name": "stdout",
     "output_type": "stream",
     "text": [
      "Faithless\n",
      "REM\n"
     ]
    }
   ],
   "source": [
    "cat musicas.txt"
   ]
  },
  {
   "cell_type": "markdown",
   "metadata": {},
   "source": [
    "dir atual e anteior"
   ]
  },
  {
   "cell_type": "code",
   "execution_count": 20,
   "metadata": {},
   "outputs": [
    {
     "name": "stdout",
     "output_type": "stream",
     "text": [
      "alura_apache_beam.ipynb  linux_conhechendo_utilizando_terminal.ipynb\n",
      "bemvindo.txt             musicas.txt\n",
      "casos_dengue.txt         python_para_data_science_primeiros_passos.ipynb\n",
      "chuvas.csv\n"
     ]
    }
   ],
   "source": [
    "ls ."
   ]
  },
  {
   "cell_type": "code",
   "execution_count": 21,
   "metadata": {},
   "outputs": [
    {
     "name": "stdout",
     "output_type": "stream",
     "text": [
      "\u001b[0m\u001b[01;34mAlura\u001b[0m/\n",
      "\u001b[01;34mAlura-spark-apresentando-ferramenta\u001b[0m/\n",
      "\u001b[01;34mDataCamp_DataEngineer\u001b[0m/\n",
      "\u001b[01;34mKaggle-Data-Cleaning\u001b[0m/\n",
      "\u001b[01;34mPacktPub_Data_Cleansing_Master_Class_in_Python\u001b[0m/\n",
      "\u001b[01;34mPluralsight\u001b[0m/\n",
      "\u001b[01;34mudemy\u001b[0m/\n"
     ]
    }
   ],
   "source": [
    "ls .."
   ]
  },
  {
   "cell_type": "markdown",
   "metadata": {},
   "source": [
    "Create dir"
   ]
  },
  {
   "cell_type": "code",
   "execution_count": 22,
   "metadata": {},
   "outputs": [],
   "source": [
    "mkdir -p workspace"
   ]
  },
  {
   "cell_type": "code",
   "execution_count": 23,
   "metadata": {},
   "outputs": [
    {
     "name": "stdout",
     "output_type": "stream",
     "text": [
      "alura_apache_beam.ipynb  linux_conhechendo_utilizando_terminal.ipynb\n",
      "bemvindo.txt             musicas.txt\n",
      "casos_dengue.txt         python_para_data_science_primeiros_passos.ipynb\n",
      "chuvas.csv               \u001b[0m\u001b[01;34mworkspace\u001b[0m/\n"
     ]
    }
   ],
   "source": [
    "ls"
   ]
  },
  {
   "cell_type": "code",
   "execution_count": 24,
   "metadata": {},
   "outputs": [
    {
     "name": "stdout",
     "output_type": "stream",
     "text": [
      "/home/vale/Cursos/Alura/workspace\n"
     ]
    }
   ],
   "source": [
    "cd workspace"
   ]
  },
  {
   "cell_type": "markdown",
   "metadata": {},
   "source": [
    "Voltar um diretorio"
   ]
  },
  {
   "cell_type": "code",
   "execution_count": 25,
   "metadata": {},
   "outputs": [
    {
     "name": "stdout",
     "output_type": "stream",
     "text": [
      "/home/vale/Cursos/Alura\n"
     ]
    }
   ],
   "source": [
    "cd .."
   ]
  },
  {
   "cell_type": "markdown",
   "metadata": {},
   "source": [
    "Ir para home"
   ]
  },
  {
   "cell_type": "code",
   "execution_count": 27,
   "metadata": {},
   "outputs": [
    {
     "name": "stdout",
     "output_type": "stream",
     "text": [
      "/\n"
     ]
    }
   ],
   "source": [
    "cd /"
   ]
  },
  {
   "cell_type": "markdown",
   "metadata": {},
   "source": [
    "Criar arquivo vazio"
   ]
  },
  {
   "cell_type": "code",
   "execution_count": 40,
   "metadata": {},
   "outputs": [],
   "source": [
    "!touch to_delete.txt"
   ]
  },
  {
   "cell_type": "markdown",
   "metadata": {},
   "source": [
    "Apagar arquivo"
   ]
  },
  {
   "cell_type": "code",
   "execution_count": 49,
   "metadata": {},
   "outputs": [],
   "source": [
    "!rm to_delete.txt"
   ]
  },
  {
   "cell_type": "markdown",
   "metadata": {},
   "source": [
    "Apagar diretorio"
   ]
  },
  {
   "cell_type": "code",
   "execution_count": 51,
   "metadata": {},
   "outputs": [],
   "source": [
    "!rmdir ../workspace"
   ]
  },
  {
   "cell_type": "code",
   "execution_count": 56,
   "metadata": {},
   "outputs": [
    {
     "name": "stdout",
     "output_type": "stream",
     "text": [
      "/home/vale/Cursos/Alura\n"
     ]
    }
   ],
   "source": [
    "cd .."
   ]
  },
  {
   "cell_type": "code",
   "execution_count": 57,
   "metadata": {},
   "outputs": [],
   "source": [
    "!mkdir newwksp"
   ]
  },
  {
   "cell_type": "code",
   "execution_count": 58,
   "metadata": {},
   "outputs": [
    {
     "name": "stdout",
     "output_type": "stream",
     "text": [
      "/home/vale/Cursos/Alura/newwksp\n"
     ]
    }
   ],
   "source": [
    "cd newwksp"
   ]
  },
  {
   "cell_type": "code",
   "execution_count": 63,
   "metadata": {},
   "outputs": [],
   "source": [
    "!touch arquivo1.txt\n",
    "!touch arquivo2.txt"
   ]
  },
  {
   "cell_type": "markdown",
   "metadata": {},
   "source": [
    "Wildcard"
   ]
  },
  {
   "cell_type": "code",
   "execution_count": 64,
   "metadata": {},
   "outputs": [
    {
     "name": "stdout",
     "output_type": "stream",
     "text": [
      "arquivo1.txt  arquivo2.txt\n"
     ]
    }
   ],
   "source": [
    "ls arquivo?.txt"
   ]
  },
  {
   "cell_type": "code",
   "execution_count": 65,
   "metadata": {},
   "outputs": [
    {
     "name": "stdout",
     "output_type": "stream",
     "text": [
      "arquivo1.txt  arquivo2.txt\n"
     ]
    }
   ],
   "source": [
    "ls *.txt"
   ]
  },
  {
   "cell_type": "markdown",
   "metadata": {},
   "source": [
    "Copy"
   ]
  },
  {
   "cell_type": "code",
   "execution_count": 71,
   "metadata": {},
   "outputs": [],
   "source": [
    "!echo hello > arquivo1.txt"
   ]
  },
  {
   "cell_type": "code",
   "execution_count": 72,
   "metadata": {},
   "outputs": [],
   "source": [
    "cp arquivo1.txt mensagem.txt"
   ]
  },
  {
   "cell_type": "code",
   "execution_count": 73,
   "metadata": {},
   "outputs": [
    {
     "name": "stdout",
     "output_type": "stream",
     "text": [
      "hello\n"
     ]
    }
   ],
   "source": [
    "cat mensagem.txt"
   ]
  },
  {
   "cell_type": "markdown",
   "metadata": {},
   "source": [
    "Mover e renomear"
   ]
  },
  {
   "cell_type": "code",
   "execution_count": 74,
   "metadata": {},
   "outputs": [],
   "source": [
    "mv mensagem.txt arquivo3.txt"
   ]
  },
  {
   "cell_type": "code",
   "execution_count": 75,
   "metadata": {},
   "outputs": [
    {
     "name": "stdout",
     "output_type": "stream",
     "text": [
      "arquivo1.txt  arquivo2.txt  arquivo3.txt\n"
     ]
    }
   ],
   "source": [
    "ls *"
   ]
  },
  {
   "cell_type": "markdown",
   "metadata": {},
   "source": [
    "Cp dir"
   ]
  },
  {
   "cell_type": "code",
   "execution_count": 76,
   "metadata": {},
   "outputs": [],
   "source": [
    "cp -r ../newwksp ../workspace"
   ]
  },
  {
   "cell_type": "markdown",
   "metadata": {},
   "source": [
    "zip"
   ]
  },
  {
   "cell_type": "code",
   "execution_count": 10,
   "metadata": {},
   "outputs": [
    {
     "name": "stdout",
     "output_type": "stream",
     "text": [
      "updating: workspace/ (stored 0%)\n",
      "  adding: workspace/arquivo1.txt (stored 0%)\n",
      "  adding: workspace/arquivo2.txt (stored 0%)\n",
      "  adding: workspace/arquivo3.txt (stored 0%)\n"
     ]
    }
   ],
   "source": [
    "!zip -r workspace.zip workspace/"
   ]
  },
  {
   "cell_type": "code",
   "execution_count": 12,
   "metadata": {},
   "outputs": [
    {
     "name": "stdout",
     "output_type": "stream",
     "text": [
      "Archive:  workspace.zip\n",
      " extracting: workspace/arquivo1.txt  \n",
      " extracting: workspace/arquivo2.txt  \n",
      " extracting: workspace/arquivo3.txt  \n"
     ]
    }
   ],
   "source": [
    "!unzip -o workspace.zip"
   ]
  },
  {
   "cell_type": "markdown",
   "metadata": {},
   "source": [
    "tar"
   ]
  },
  {
   "cell_type": "code",
   "execution_count": 15,
   "metadata": {},
   "outputs": [],
   "source": [
    "!tar -czf work.tar.gz workspace/"
   ]
  },
  {
   "cell_type": "code",
   "execution_count": 16,
   "metadata": {},
   "outputs": [],
   "source": [
    "!tar -xzf work.tar.gz"
   ]
  },
  {
   "cell_type": "markdown",
   "metadata": {},
   "source": [
    "touch"
   ]
  },
  {
   "cell_type": "code",
   "execution_count": 8,
   "metadata": {},
   "outputs": [
    {
     "name": "stdout",
     "output_type": "stream",
     "text": [
      "-rw-r--r-- 1 vale vale 10 Apr 28 13:39 bemvindo.txt\n"
     ]
    }
   ],
   "source": [
    "ls -ltr bemvindo.txt"
   ]
  },
  {
   "cell_type": "code",
   "execution_count": 9,
   "metadata": {},
   "outputs": [
    {
     "name": "stdout",
     "output_type": "stream",
     "text": [
      "Bem vindo\n"
     ]
    }
   ],
   "source": [
    "cat bemvindo.txt"
   ]
  },
  {
   "cell_type": "code",
   "execution_count": 10,
   "metadata": {},
   "outputs": [],
   "source": [
    "!touch bemvindo.txt"
   ]
  },
  {
   "cell_type": "code",
   "execution_count": 11,
   "metadata": {},
   "outputs": [
    {
     "name": "stdout",
     "output_type": "stream",
     "text": [
      "Bem vindo\n"
     ]
    }
   ],
   "source": [
    "cat bemvindo.txt"
   ]
  },
  {
   "cell_type": "code",
   "execution_count": 12,
   "metadata": {},
   "outputs": [
    {
     "name": "stdout",
     "output_type": "stream",
     "text": [
      "-rw-r--r-- 1 vale vale 10 Apr 28 13:39 bemvindo.txt\n"
     ]
    }
   ],
   "source": [
    "ls -ltr bemvindo.txt"
   ]
  },
  {
   "cell_type": "code",
   "execution_count": 14,
   "metadata": {},
   "outputs": [
    {
     "name": "stdout",
     "output_type": "stream",
     "text": [
      "28/04/2022\n"
     ]
    }
   ],
   "source": [
    "!date \"+%d/%m/%Y\""
   ]
  },
  {
   "cell_type": "code",
   "execution_count": 15,
   "metadata": {},
   "outputs": [
    {
     "name": "stdout",
     "output_type": "stream",
     "text": [
      "28/Thursday/2022\n"
     ]
    }
   ],
   "source": [
    "!date \"+%d/%A/%Y\""
   ]
  },
  {
   "cell_type": "code",
   "execution_count": 16,
   "metadata": {},
   "outputs": [
    {
     "name": "stdout",
     "output_type": "stream",
     "text": [
      "28/April/2022\n"
     ]
    }
   ],
   "source": [
    "!date \"+%d/%B/%Y\""
   ]
  },
  {
   "cell_type": "markdown",
   "metadata": {},
   "source": [
    "Less, head, tail"
   ]
  },
  {
   "cell_type": "code",
   "execution_count": 48,
   "metadata": {},
   "outputs": [],
   "source": [
    "!curl -sS \"https://en.wikipedia.org/wiki/Google?action=raw\" | grep '''Google LLC''' > Google.txt"
   ]
  },
  {
   "cell_type": "code",
   "execution_count": 49,
   "metadata": {},
   "outputs": [],
   "source": [
    "!sed 's/|/\\n/g' Google.txt > google.txt"
   ]
  },
  {
   "cell_type": "code",
   "execution_count": 51,
   "metadata": {},
   "outputs": [
    {
     "name": "stdout",
     "output_type": "stream",
     "text": [
      "\n",
      " name = Google LLC\n",
      "'''Google LLC''' is an American [[Multinational corporation\n"
     ]
    }
   ],
   "source": [
    "!head -n 3 google.txt"
   ]
  },
  {
   "cell_type": "code",
   "execution_count": 52,
   "metadata": {},
   "outputs": [
    {
     "name": "stdout",
     "output_type": "stream",
     "text": [
      "Apple]], [[Meta Platforms\n",
      "Meta]], and [[Microsoft]].\n",
      "{{Google LLC}}\n"
     ]
    }
   ],
   "source": [
    "!tail -n 3 google.txt"
   ]
  },
  {
   "cell_type": "code",
   "execution_count": 53,
   "metadata": {},
   "outputs": [
    {
     "name": "stdout",
     "output_type": "stream",
     "text": [
      "\u001b7\u001b[?47h\u001b[?1h\u001b=\n",
      " name = Google LLC\n",
      "'''Google LLC''' is an American [[Multinational corporation\n",
      "multinational]] [[technology company]] that focuses on [[artificial intelligence]],<ref>{{Cite web \n",
      "last=Condon \n",
      "first=Stephanie \n",
      "title=Google I/O: From 'AI first' to AI working for everyone \n",
      "url=https://www.zdnet.com/article/google-io-from-ai-first-to-ai-working-for-everyone/ \n",
      "access-date=2022-04-02 \n",
      "website=ZDNet \n",
      "language=en}}</ref> [[search engine]], [[online advertising]], [[cloud computing]], [[software\n",
      "computer software]], [[quantum computing]], [[e-commerce]], and [[Computer hardware\n",
      "consumer electronics]]. It has been referred to as the \"most powerful company in the world\" and one of the world's most valuable brands due to its market dominance, data collection, and technological advantages in the area of artificial intelligence.<ref>{{Cite news \n",
      "date=2017-11-21 \n",
      "title=Google - powerful and responsible? \n",
      "language=en-GB \n",
      "\u001b[K:\u001b[Kgle.txt\u001b[m\u001b[K\u0007"
     ]
    }
   ],
   "source": [
    "#!less google.txt"
   ]
  },
  {
   "cell_type": "code",
   "execution_count": 55,
   "metadata": {},
   "outputs": [
    {
     "name": "stdout",
     "output_type": "stream",
     "text": [
      "\u001b7\u001b[?47h\u001b[>4;2m\u001b[?1h\u001b=\u001b[?2004h\u001b[1;24r\u001b[?12h\u001b[?12l\u001b[22;2t\u001b[22;1t\u001b[29m\u001b[m\u001b[H\u001b[2J\u001b[?25l\u001b[24;1H\"google.txt\" 43L, 1973C\u001b[2;1H▽\u001b[6n\u001b[2;1H  \u001b[1;1H\u001b[>c\u001b]10;?\u0007\u001b]11;?\u0007\u001b[2;2Hname = Google LLC\n",
      "'''Google LLC''' is an American [[Multinational corporation\n",
      "multinational]] [[technology company]] that focuses on [[artificial intelligencee\u001b[5;1H]],<ref>{{Cite web\n",
      "last=Condon\n",
      "first=Stephanie\n",
      "title=Google I/O: From 'AI first' to AI working for everyone\n",
      "url=https://www.zdnet.com/article/google-io-from-ai-first-to-ai-working-for-everr\u001b[10;1Hyone/\n",
      "access-date=2022-04-02\n",
      "website=ZDNet\n",
      "language=en}}</ref> [[search engine]], [[online advertising]], [[cloud computingg\u001b[14;1H]], [[software\n",
      "computer software]], [[quantum computing]], [[e-commerce]], and [[Computer hardww\u001b[16;1Hare\n",
      "consumer electronics]]. It has been referred to as the \"most powerful company inn\u001b[18;1H the world\" and one of the world's most valuable brands due to its market dominaa\u001b[19;1Hnce, data collection, and technological advantages in the area of artificial intt\u001b[20;1Helligence.<ref>{{Cite news\n",
      "date=2017-11-21\n",
      "title=Google - powerful and responsible?\n",
      "language=en-GB\u001b[24;63H1,0-1\u001b[9CTop\u001b[1;1H\u001b[?25h\u001b[?25l\u001b[24;1HType  :qa  and press <Enter> to exit Vim\u001b[24;63H\u001b[K\u0007\u001b[24;63H1,0-1\u001b[9CTop\u001b[1;1H\u001b[?25h"
     ]
    }
   ],
   "source": [
    "#!vi google.txt\n",
    "#:wq save\n",
    "#x delete\n",
    "#q! exit without save\n",
    "#dd remove a linha inteira\n",
    "#G ultima linha\n",
    "#1G primeira linha\n",
    "#/palavra search por palavra. N vai para o proximo resultado e n vai para o resultado anterior\n",
    "#0 inicio da linha\n",
    "#$ fim da linha\n",
    "#yy copiar linha\n",
    "#p colar linha\n"
   ]
  },
  {
   "cell_type": "code",
   "execution_count": null,
   "metadata": {},
   "outputs": [],
   "source": []
  },
  {
   "cell_type": "code",
   "execution_count": null,
   "metadata": {},
   "outputs": [],
   "source": []
  }
 ],
 "metadata": {
  "interpreter": {
   "hash": "916dbcbb3f70747c44a77c7bcd40155683ae19c65e1c03b4aa3499c5328201f1"
  },
  "kernelspec": {
   "display_name": "Python 3.8.10 64-bit",
   "language": "python",
   "name": "python3"
  },
  "language_info": {
   "codemirror_mode": {
    "name": "ipython",
    "version": 3
   },
   "file_extension": ".py",
   "mimetype": "text/x-python",
   "name": "python",
   "nbconvert_exporter": "python",
   "pygments_lexer": "ipython3",
   "version": "3.8.10"
  },
  "orig_nbformat": 4
 },
 "nbformat": 4,
 "nbformat_minor": 2
}
